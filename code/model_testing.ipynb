{
 "cells": [
  {
   "cell_type": "code",
   "execution_count": 1,
   "metadata": {},
   "outputs": [],
   "source": [
    "import pandas as pd\n",
    "import numpy as np\n",
    "import re\n",
    "import matplotlib.pyplot as plt\n",
    "from pprint import pprint\n",
    "import warnings\n",
    "warnings.filterwarnings('ignore')"
   ]
  },
  {
   "cell_type": "markdown",
   "metadata": {},
   "source": [
    "## Data"
   ]
  },
  {
   "cell_type": "code",
   "execution_count": 2,
   "metadata": {},
   "outputs": [],
   "source": [
    "# kaggle functions\n",
    "def clean_text(txt):\n",
    "    return re.sub('[^A-Za-z0-9]+', ' ', str(txt).lower()).strip()"
   ]
  },
  {
   "cell_type": "code",
   "execution_count": 3,
   "metadata": {},
   "outputs": [
    {
     "data": {
      "text/html": [
       "<div>\n",
       "<style scoped>\n",
       "    .dataframe tbody tr th:only-of-type {\n",
       "        vertical-align: middle;\n",
       "    }\n",
       "\n",
       "    .dataframe tbody tr th {\n",
       "        vertical-align: top;\n",
       "    }\n",
       "\n",
       "    .dataframe thead th {\n",
       "        text-align: right;\n",
       "    }\n",
       "</style>\n",
       "<table border=\"1\" class=\"dataframe\">\n",
       "  <thead>\n",
       "    <tr style=\"text-align: right;\">\n",
       "      <th></th>\n",
       "      <th>Id</th>\n",
       "      <th>pub_title</th>\n",
       "      <th>dataset_title</th>\n",
       "      <th>dataset_label</th>\n",
       "      <th>cleaned_label</th>\n",
       "      <th>text</th>\n",
       "      <th>all_labels</th>\n",
       "    </tr>\n",
       "  </thead>\n",
       "  <tbody>\n",
       "    <tr>\n",
       "      <th>0</th>\n",
       "      <td>d0fa7568-7d8e-4db9-870f-f9c6f668c17b</td>\n",
       "      <td>The Impact of Dual Enrollment on College Degre...</td>\n",
       "      <td>National Education Longitudinal Study</td>\n",
       "      <td>National Education Longitudinal Study</td>\n",
       "      <td>national education longitudinal study</td>\n",
       "      <td>section title what is this study about text th...</td>\n",
       "      <td>education longitudinal study|national educatio...</td>\n",
       "    </tr>\n",
       "    <tr>\n",
       "      <th>1</th>\n",
       "      <td>2f26f645-3dec-485d-b68d-f013c9e05e60</td>\n",
       "      <td>Educational Attainment of High School Dropouts...</td>\n",
       "      <td>National Education Longitudinal Study</td>\n",
       "      <td>National Education Longitudinal Study</td>\n",
       "      <td>national education longitudinal study</td>\n",
       "      <td>section title november 2004 text dropping out ...</td>\n",
       "      <td>education longitudinal study|national educatio...</td>\n",
       "    </tr>\n",
       "    <tr>\n",
       "      <th>2</th>\n",
       "      <td>c5d5cd2c-59de-4f29-bbb1-6a88c7b52f29</td>\n",
       "      <td>Differences in Outcomes for Female and Male St...</td>\n",
       "      <td>National Education Longitudinal Study</td>\n",
       "      <td>National Education Longitudinal Study</td>\n",
       "      <td>national education longitudinal study</td>\n",
       "      <td>section title differences in outcomes for fema...</td>\n",
       "      <td>education longitudinal study|national educatio...</td>\n",
       "    </tr>\n",
       "    <tr>\n",
       "      <th>3</th>\n",
       "      <td>5c9a3bc9-41ba-4574-ad71-e25c1442c8af</td>\n",
       "      <td>Stepping Stone and Option Value in a Model of ...</td>\n",
       "      <td>National Education Longitudinal Study</td>\n",
       "      <td>National Education Longitudinal Study</td>\n",
       "      <td>national education longitudinal study</td>\n",
       "      <td>section title abstract text federal reserve ba...</td>\n",
       "      <td>education longitudinal study|national educatio...</td>\n",
       "    </tr>\n",
       "    <tr>\n",
       "      <th>4</th>\n",
       "      <td>c754dec7-c5a3-4337-9892-c02158475064</td>\n",
       "      <td>Parental Effort, School Resources, and Student...</td>\n",
       "      <td>National Education Longitudinal Study</td>\n",
       "      <td>National Education Longitudinal Study</td>\n",
       "      <td>national education longitudinal study</td>\n",
       "      <td>section title abstract text this article inves...</td>\n",
       "      <td>education longitudinal study|national educatio...</td>\n",
       "    </tr>\n",
       "  </tbody>\n",
       "</table>\n",
       "</div>"
      ],
      "text/plain": [
       "                                     Id  \\\n",
       "0  d0fa7568-7d8e-4db9-870f-f9c6f668c17b   \n",
       "1  2f26f645-3dec-485d-b68d-f013c9e05e60   \n",
       "2  c5d5cd2c-59de-4f29-bbb1-6a88c7b52f29   \n",
       "3  5c9a3bc9-41ba-4574-ad71-e25c1442c8af   \n",
       "4  c754dec7-c5a3-4337-9892-c02158475064   \n",
       "\n",
       "                                           pub_title  \\\n",
       "0  The Impact of Dual Enrollment on College Degre...   \n",
       "1  Educational Attainment of High School Dropouts...   \n",
       "2  Differences in Outcomes for Female and Male St...   \n",
       "3  Stepping Stone and Option Value in a Model of ...   \n",
       "4  Parental Effort, School Resources, and Student...   \n",
       "\n",
       "                           dataset_title  \\\n",
       "0  National Education Longitudinal Study   \n",
       "1  National Education Longitudinal Study   \n",
       "2  National Education Longitudinal Study   \n",
       "3  National Education Longitudinal Study   \n",
       "4  National Education Longitudinal Study   \n",
       "\n",
       "                           dataset_label  \\\n",
       "0  National Education Longitudinal Study   \n",
       "1  National Education Longitudinal Study   \n",
       "2  National Education Longitudinal Study   \n",
       "3  National Education Longitudinal Study   \n",
       "4  National Education Longitudinal Study   \n",
       "\n",
       "                           cleaned_label  \\\n",
       "0  national education longitudinal study   \n",
       "1  national education longitudinal study   \n",
       "2  national education longitudinal study   \n",
       "3  national education longitudinal study   \n",
       "4  national education longitudinal study   \n",
       "\n",
       "                                                text  \\\n",
       "0  section title what is this study about text th...   \n",
       "1  section title november 2004 text dropping out ...   \n",
       "2  section title differences in outcomes for fema...   \n",
       "3  section title abstract text federal reserve ba...   \n",
       "4  section title abstract text this article inves...   \n",
       "\n",
       "                                          all_labels  \n",
       "0  education longitudinal study|national educatio...  \n",
       "1  education longitudinal study|national educatio...  \n",
       "2  education longitudinal study|national educatio...  \n",
       "3  education longitudinal study|national educatio...  \n",
       "4  education longitudinal study|national educatio...  "
      ]
     },
     "execution_count": 3,
     "metadata": {},
     "output_type": "execute_result"
    }
   ],
   "source": [
    "train_df = pd.DataFrame(pd.read_csv('../resources/combined_data/train_with_text_labels.csv'))\n",
    "test_df = pd.read_csv('../resources/combined_data/test_with_text.csv')\n",
    "train_df.head()"
   ]
  },
  {
   "cell_type": "code",
   "execution_count": 31,
   "metadata": {},
   "outputs": [],
   "source": [
    "# split_label_df = train_df[['Id','text','all_labels']]\n",
    "# for index, row in split_label_df.iterrows():\n",
    "#     if '|' not in row.all_labels:\n",
    "#         row.all_labels = f'{row.all_labels}|'\n",
    "# both_labels = split_label_df['all_labels'].str.split('|', n=1, expand = True)\n",
    "# split_label_df['label_1'] = both_labels[0]\n",
    "# split_label_df['label_2'] = both_labels[1]\n",
    "# # split_label_df = split_label_df.fillna('',inplace=True)\n",
    "# # split_label_df['label_2'] = split_label_df['label_2'].replace('None', '', inplace=True)\n",
    "# split_label_df "
   ]
  },
  {
   "cell_type": "code",
   "execution_count": null,
   "metadata": {},
   "outputs": [],
   "source": []
  },
  {
   "cell_type": "code",
   "execution_count": null,
   "metadata": {},
   "outputs": [],
   "source": []
  },
  {
   "cell_type": "markdown",
   "metadata": {},
   "source": [
    "## Submission 1 (cheating)"
   ]
  },
  {
   "cell_type": "code",
   "execution_count": 5,
   "metadata": {},
   "outputs": [
    {
     "data": {
      "text/html": [
       "<div>\n",
       "<style scoped>\n",
       "    .dataframe tbody tr th:only-of-type {\n",
       "        vertical-align: middle;\n",
       "    }\n",
       "\n",
       "    .dataframe tbody tr th {\n",
       "        vertical-align: top;\n",
       "    }\n",
       "\n",
       "    .dataframe thead th {\n",
       "        text-align: right;\n",
       "    }\n",
       "</style>\n",
       "<table border=\"1\" class=\"dataframe\">\n",
       "  <thead>\n",
       "    <tr style=\"text-align: right;\">\n",
       "      <th></th>\n",
       "      <th>PredictionString</th>\n",
       "    </tr>\n",
       "    <tr>\n",
       "      <th>Id</th>\n",
       "      <th></th>\n",
       "    </tr>\n",
       "  </thead>\n",
       "  <tbody>\n",
       "    <tr>\n",
       "      <th>2100032a-7c33-4bff-97ef-690822c43466</th>\n",
       "      <td>adni|alzheimer s disease neuroimaging initiati...</td>\n",
       "    </tr>\n",
       "    <tr>\n",
       "      <th>2f392438-e215-4169-bebf-21ac4ff253e1</th>\n",
       "      <td>nces common core of data|common core of data|t...</td>\n",
       "    </tr>\n",
       "    <tr>\n",
       "      <th>3f316b38-1a24-45a9-8d8c-4e05a42257c6</th>\n",
       "      <td>noaa storm surge inundation|slosh model</td>\n",
       "    </tr>\n",
       "    <tr>\n",
       "      <th>8e6996b4-ca08-4c0b-bed2-aaf07a4c6a60</th>\n",
       "      <td>rural urban continuum codes</td>\n",
       "    </tr>\n",
       "  </tbody>\n",
       "</table>\n",
       "</div>"
      ],
      "text/plain": [
       "                                                                       PredictionString\n",
       "Id                                                                                     \n",
       "2100032a-7c33-4bff-97ef-690822c43466  adni|alzheimer s disease neuroimaging initiati...\n",
       "2f392438-e215-4169-bebf-21ac4ff253e1  nces common core of data|common core of data|t...\n",
       "3f316b38-1a24-45a9-8d8c-4e05a42257c6            noaa storm surge inundation|slosh model\n",
       "8e6996b4-ca08-4c0b-bed2-aaf07a4c6a60                        rural urban continuum codes"
      ]
     },
     "execution_count": 5,
     "metadata": {},
     "output_type": "execute_result"
    }
   ],
   "source": [
    "# # add all dataset labels in training set to list \n",
    "# dataset_labels = [x.lower() for x in train_df['dataset_label'].unique()]\n",
    "# dataset_titles = [x.lower() for x in train_df['dataset_title'].unique()]\n",
    "# cleaned_labels = [x.lower() for x in train_df['cleaned_label'].unique()]\n",
    "\n",
    "# label_list = set(dataset_labels + dataset_titles + cleaned_labels)\n",
    "\n",
    "# # check if in test text and add to submission dataframe \n",
    "# labels = []\n",
    "# for index in test_df['Id']:\n",
    "#     text = test_df[test_df['Id'] == index].text.str.cat(sep='\\n').lower()\n",
    "#     label = []\n",
    "#     for dataset_title in label_list:\n",
    "#         if dataset_title in text:\n",
    "#             label.append(clean_text(dataset_title))\n",
    "#     labels.append('|'.join(label))\n",
    "\n",
    "# test_df['PredictionString'] = labels\n",
    "\n",
    "# submission_df = test_df.drop(columns=['text']).set_index('Id')\n",
    "\n",
    "# submission_df"
   ]
  },
  {
   "cell_type": "code",
   "execution_count": 12,
   "metadata": {},
   "outputs": [
    {
     "data": {
      "text/html": [
       "<div>\n",
       "<style scoped>\n",
       "    .dataframe tbody tr th:only-of-type {\n",
       "        vertical-align: middle;\n",
       "    }\n",
       "\n",
       "    .dataframe tbody tr th {\n",
       "        vertical-align: top;\n",
       "    }\n",
       "\n",
       "    .dataframe thead th {\n",
       "        text-align: right;\n",
       "    }\n",
       "</style>\n",
       "<table border=\"1\" class=\"dataframe\">\n",
       "  <thead>\n",
       "    <tr style=\"text-align: right;\">\n",
       "      <th></th>\n",
       "      <th>Id</th>\n",
       "      <th>pub_title</th>\n",
       "      <th>dataset_title</th>\n",
       "      <th>dataset_label</th>\n",
       "      <th>cleaned_label</th>\n",
       "      <th>text</th>\n",
       "      <th>all_labels</th>\n",
       "    </tr>\n",
       "  </thead>\n",
       "  <tbody>\n",
       "    <tr>\n",
       "      <th>0</th>\n",
       "      <td>d0fa7568-7d8e-4db9-870f-f9c6f668c17b</td>\n",
       "      <td>The Impact of Dual Enrollment on College Degre...</td>\n",
       "      <td>National Education Longitudinal Study</td>\n",
       "      <td>National Education Longitudinal Study</td>\n",
       "      <td>national education longitudinal study</td>\n",
       "      <td>section title what is this study about text th...</td>\n",
       "      <td>national education longitudinal study|educatio...</td>\n",
       "    </tr>\n",
       "    <tr>\n",
       "      <th>1</th>\n",
       "      <td>2f26f645-3dec-485d-b68d-f013c9e05e60</td>\n",
       "      <td>Educational Attainment of High School Dropouts...</td>\n",
       "      <td>National Education Longitudinal Study</td>\n",
       "      <td>National Education Longitudinal Study</td>\n",
       "      <td>national education longitudinal study</td>\n",
       "      <td>section title november 2004 text dropping out ...</td>\n",
       "      <td>national education longitudinal study|educatio...</td>\n",
       "    </tr>\n",
       "    <tr>\n",
       "      <th>2</th>\n",
       "      <td>c5d5cd2c-59de-4f29-bbb1-6a88c7b52f29</td>\n",
       "      <td>Differences in Outcomes for Female and Male St...</td>\n",
       "      <td>National Education Longitudinal Study</td>\n",
       "      <td>National Education Longitudinal Study</td>\n",
       "      <td>national education longitudinal study</td>\n",
       "      <td>section title differences in outcomes for fema...</td>\n",
       "      <td>national education longitudinal study|educatio...</td>\n",
       "    </tr>\n",
       "    <tr>\n",
       "      <th>3</th>\n",
       "      <td>5c9a3bc9-41ba-4574-ad71-e25c1442c8af</td>\n",
       "      <td>Stepping Stone and Option Value in a Model of ...</td>\n",
       "      <td>National Education Longitudinal Study</td>\n",
       "      <td>National Education Longitudinal Study</td>\n",
       "      <td>national education longitudinal study</td>\n",
       "      <td>section title abstract text federal reserve ba...</td>\n",
       "      <td>national education longitudinal study|educatio...</td>\n",
       "    </tr>\n",
       "    <tr>\n",
       "      <th>4</th>\n",
       "      <td>c754dec7-c5a3-4337-9892-c02158475064</td>\n",
       "      <td>Parental Effort, School Resources, and Student...</td>\n",
       "      <td>National Education Longitudinal Study</td>\n",
       "      <td>National Education Longitudinal Study</td>\n",
       "      <td>national education longitudinal study</td>\n",
       "      <td>section title abstract text this article inves...</td>\n",
       "      <td>national education longitudinal study|educatio...</td>\n",
       "    </tr>\n",
       "    <tr>\n",
       "      <th>...</th>\n",
       "      <td>...</td>\n",
       "      <td>...</td>\n",
       "      <td>...</td>\n",
       "      <td>...</td>\n",
       "      <td>...</td>\n",
       "      <td>...</td>\n",
       "      <td>...</td>\n",
       "    </tr>\n",
       "    <tr>\n",
       "      <th>19656</th>\n",
       "      <td>b3498176-8832-4033-aea6-b5ea85ea04c4</td>\n",
       "      <td>RSNA International Trends: A Global Perspectiv...</td>\n",
       "      <td>RSNA International COVID-19 Open Radiology Dat...</td>\n",
       "      <td>RSNA International COVID Open Radiology Database</td>\n",
       "      <td>rsna international covid open radiology database</td>\n",
       "      <td>section title introduction text our lives have...</td>\n",
       "      <td>rsna international covid open radiology database</td>\n",
       "    </tr>\n",
       "    <tr>\n",
       "      <th>19657</th>\n",
       "      <td>f77eb51f-c3ac-420b-9586-cb187849c321</td>\n",
       "      <td>MCCS: a novel recognition pattern-based method...</td>\n",
       "      <td>CAS COVID-19 antiviral candidate compounds dat...</td>\n",
       "      <td>CAS COVID-19 antiviral candidate compounds dat...</td>\n",
       "      <td>cas covid 19 antiviral candidate compounds dat...</td>\n",
       "      <td>section title introduction text the outbreak o...</td>\n",
       "      <td>cas covid 19 antiviral candidate compounds dat...</td>\n",
       "    </tr>\n",
       "    <tr>\n",
       "      <th>19658</th>\n",
       "      <td>ab59bcdd-7b7c-4107-93f5-0ccaf749236c</td>\n",
       "      <td>Quantitative Structure–Activity Relationship M...</td>\n",
       "      <td>CAS COVID-19 antiviral candidate compounds dat...</td>\n",
       "      <td>CAS COVID-19 antiviral candidate compounds dat...</td>\n",
       "      <td>cas covid 19 antiviral candidate compounds dat...</td>\n",
       "      <td>section title introduction text the ongoing co...</td>\n",
       "      <td>cas covid 19 antiviral candidate compounds dat...</td>\n",
       "    </tr>\n",
       "    <tr>\n",
       "      <th>19659</th>\n",
       "      <td>fd23e7e0-a5d2-4f98-992d-9209c85153bb</td>\n",
       "      <td>A ligand-based computational drug repurposing ...</td>\n",
       "      <td>CAS COVID-19 antiviral candidate compounds dat...</td>\n",
       "      <td>CAS COVID-19 antiviral candidate compounds dat...</td>\n",
       "      <td>cas covid 19 antiviral candidate compounds dat...</td>\n",
       "      <td>section title text deployment of approximative...</td>\n",
       "      <td>cas covid 19 antiviral candidate compounds dat...</td>\n",
       "    </tr>\n",
       "    <tr>\n",
       "      <th>19660</th>\n",
       "      <td>fd23e7e0-a5d2-4f98-992d-9209c85153bb</td>\n",
       "      <td>A ligand-based computational drug repurposing ...</td>\n",
       "      <td>CAS COVID-19 antiviral candidate compounds dat...</td>\n",
       "      <td>CAS COVID-19 antiviral candidate compounds data</td>\n",
       "      <td>cas covid 19 antiviral candidate compounds data</td>\n",
       "      <td>section title text deployment of approximative...</td>\n",
       "      <td>cas covid 19 antiviral candidate compounds dat...</td>\n",
       "    </tr>\n",
       "  </tbody>\n",
       "</table>\n",
       "<p>19661 rows × 7 columns</p>\n",
       "</div>"
      ],
      "text/plain": [
       "                                         Id  \\\n",
       "0      d0fa7568-7d8e-4db9-870f-f9c6f668c17b   \n",
       "1      2f26f645-3dec-485d-b68d-f013c9e05e60   \n",
       "2      c5d5cd2c-59de-4f29-bbb1-6a88c7b52f29   \n",
       "3      5c9a3bc9-41ba-4574-ad71-e25c1442c8af   \n",
       "4      c754dec7-c5a3-4337-9892-c02158475064   \n",
       "...                                     ...   \n",
       "19656  b3498176-8832-4033-aea6-b5ea85ea04c4   \n",
       "19657  f77eb51f-c3ac-420b-9586-cb187849c321   \n",
       "19658  ab59bcdd-7b7c-4107-93f5-0ccaf749236c   \n",
       "19659  fd23e7e0-a5d2-4f98-992d-9209c85153bb   \n",
       "19660  fd23e7e0-a5d2-4f98-992d-9209c85153bb   \n",
       "\n",
       "                                               pub_title  \\\n",
       "0      The Impact of Dual Enrollment on College Degre...   \n",
       "1      Educational Attainment of High School Dropouts...   \n",
       "2      Differences in Outcomes for Female and Male St...   \n",
       "3      Stepping Stone and Option Value in a Model of ...   \n",
       "4      Parental Effort, School Resources, and Student...   \n",
       "...                                                  ...   \n",
       "19656  RSNA International Trends: A Global Perspectiv...   \n",
       "19657  MCCS: a novel recognition pattern-based method...   \n",
       "19658  Quantitative Structure–Activity Relationship M...   \n",
       "19659  A ligand-based computational drug repurposing ...   \n",
       "19660  A ligand-based computational drug repurposing ...   \n",
       "\n",
       "                                           dataset_title  \\\n",
       "0                  National Education Longitudinal Study   \n",
       "1                  National Education Longitudinal Study   \n",
       "2                  National Education Longitudinal Study   \n",
       "3                  National Education Longitudinal Study   \n",
       "4                  National Education Longitudinal Study   \n",
       "...                                                  ...   \n",
       "19656  RSNA International COVID-19 Open Radiology Dat...   \n",
       "19657  CAS COVID-19 antiviral candidate compounds dat...   \n",
       "19658  CAS COVID-19 antiviral candidate compounds dat...   \n",
       "19659  CAS COVID-19 antiviral candidate compounds dat...   \n",
       "19660  CAS COVID-19 antiviral candidate compounds dat...   \n",
       "\n",
       "                                           dataset_label  \\\n",
       "0                  National Education Longitudinal Study   \n",
       "1                  National Education Longitudinal Study   \n",
       "2                  National Education Longitudinal Study   \n",
       "3                  National Education Longitudinal Study   \n",
       "4                  National Education Longitudinal Study   \n",
       "...                                                  ...   \n",
       "19656   RSNA International COVID Open Radiology Database   \n",
       "19657  CAS COVID-19 antiviral candidate compounds dat...   \n",
       "19658  CAS COVID-19 antiviral candidate compounds dat...   \n",
       "19659  CAS COVID-19 antiviral candidate compounds dat...   \n",
       "19660    CAS COVID-19 antiviral candidate compounds data   \n",
       "\n",
       "                                           cleaned_label  \\\n",
       "0                  national education longitudinal study   \n",
       "1                  national education longitudinal study   \n",
       "2                  national education longitudinal study   \n",
       "3                  national education longitudinal study   \n",
       "4                  national education longitudinal study   \n",
       "...                                                  ...   \n",
       "19656   rsna international covid open radiology database   \n",
       "19657  cas covid 19 antiviral candidate compounds dat...   \n",
       "19658  cas covid 19 antiviral candidate compounds dat...   \n",
       "19659  cas covid 19 antiviral candidate compounds dat...   \n",
       "19660    cas covid 19 antiviral candidate compounds data   \n",
       "\n",
       "                                                    text  \\\n",
       "0      section title what is this study about text th...   \n",
       "1      section title november 2004 text dropping out ...   \n",
       "2      section title differences in outcomes for fema...   \n",
       "3      section title abstract text federal reserve ba...   \n",
       "4      section title abstract text this article inves...   \n",
       "...                                                  ...   \n",
       "19656  section title introduction text our lives have...   \n",
       "19657  section title introduction text the outbreak o...   \n",
       "19658  section title introduction text the ongoing co...   \n",
       "19659  section title text deployment of approximative...   \n",
       "19660  section title text deployment of approximative...   \n",
       "\n",
       "                                              all_labels  \n",
       "0      national education longitudinal study|educatio...  \n",
       "1      national education longitudinal study|educatio...  \n",
       "2      national education longitudinal study|educatio...  \n",
       "3      national education longitudinal study|educatio...  \n",
       "4      national education longitudinal study|educatio...  \n",
       "...                                                  ...  \n",
       "19656   rsna international covid open radiology database  \n",
       "19657  cas covid 19 antiviral candidate compounds dat...  \n",
       "19658  cas covid 19 antiviral candidate compounds dat...  \n",
       "19659  cas covid 19 antiviral candidate compounds dat...  \n",
       "19660  cas covid 19 antiviral candidate compounds dat...  \n",
       "\n",
       "[19661 rows x 7 columns]"
      ]
     },
     "execution_count": 12,
     "metadata": {},
     "output_type": "execute_result"
    }
   ],
   "source": [
    "# add all dataset labels in training set to list \n",
    "dataset_labels = [x.lower() for x in train_df['dataset_label'].unique()]\n",
    "dataset_titles = [x.lower() for x in train_df['dataset_title'].unique()]\n",
    "cleaned_labels = [x.lower() for x in train_df['cleaned_label'].unique()]\n",
    "label_list = set(dataset_labels + dataset_titles + cleaned_labels)\n",
    "\n",
    "for index, row in train_df.iterrows():\n",
    "    row['all_labels'] = '|'.join([label for label in label_list if label in row['text']]).strip()\n",
    "\n",
    "train_df"
   ]
  },
  {
   "cell_type": "code",
   "execution_count": 13,
   "metadata": {},
   "outputs": [],
   "source": [
    "# submission_df.to_csv('../output/submission1.csv')"
   ]
  },
  {
   "cell_type": "markdown",
   "metadata": {},
   "source": [
    "## ML approach"
   ]
  },
  {
   "cell_type": "markdown",
   "metadata": {},
   "source": [
    "#### Feature engineering"
   ]
  },
  {
   "cell_type": "code",
   "execution_count": 14,
   "metadata": {},
   "outputs": [
    {
     "name": "stdout",
     "output_type": "stream",
     "text": [
      "(19661,) (19661,)\n"
     ]
    }
   ],
   "source": [
    "X = train_df['text']\n",
    "y = train_df['all_labels']\n",
    "print(X.shape, y.shape)"
   ]
  },
  {
   "cell_type": "code",
   "execution_count": 15,
   "metadata": {},
   "outputs": [],
   "source": [
    "# X2 = split_label_df['text']\n",
    "# y2 = split_label_df[['label_1','label_2']]\n",
    "# print(X2.shape, y2.shape)"
   ]
  },
  {
   "cell_type": "code",
   "execution_count": 25,
   "metadata": {},
   "outputs": [],
   "source": [
    "# split data\n",
    "from sklearn.model_selection import train_test_split\n",
    "X_train, X_test, y_train, y_test = train_test_split(X, y, test_size=.07, random_state=42)\n",
    "# X_train2, X_test2, y_train2, y_test2 = train_test_split(X2, y2, random_state=42)"
   ]
  },
  {
   "cell_type": "code",
   "execution_count": 26,
   "metadata": {},
   "outputs": [],
   "source": [
    "# from sklearn.feature_extraction.text import CountVectorizer\n",
    "# from sklearn.feature_extraction.text import TfidfTransformer, TfidfVectorizer\n",
    "# # Initialize CountVectorizer\n",
    "# count_vec = CountVectorizer(stop_words='english', max_df=0.7) \n",
    "# # Fit and transform training data \n",
    "# count_vec_train = count_vec.fit_transform(X_train2) \n",
    "# # Transform test set \n",
    "# count_vec_test = count_vec.transform(X_test2)\n",
    "# # Initialize tfidf_vectorizer\n",
    "# tfidf_transformer = TfidfTransformer() \n",
    "# # Fit and transform training data \n",
    "# tfidf_train = tfidf_transformer.fit_transform(count_vec_train) \n",
    "# # Transform test set \n",
    "# tfidf_test = tfidf_transformer.transform(count_vec_test)\n",
    "# # tfidf_df = pd.DataFrame(tfidf_train.A, columns=TfidfTransformer.get_feature_names())\n",
    "# # tfidf_df"
   ]
  },
  {
   "cell_type": "code",
   "execution_count": 27,
   "metadata": {},
   "outputs": [],
   "source": [
    "# more functions\n",
    "from sklearn.pipeline import Pipeline\n",
    "from sklearn.feature_extraction.text import CountVectorizer, TfidfTransformer, TfidfVectorizer\n",
    "from sklearn.metrics import precision_score, recall_score, confusion_matrix\n",
    "\n",
    "def model_test(model):\n",
    "    '''Quickly creates pipeline and displays scores for testing'''\n",
    "    \n",
    "    clf_pipe = Pipeline([\n",
    "        ('vect', CountVectorizer(stop_words='english', max_df=0.7)),\n",
    "        ('tfidf', TfidfTransformer()),\n",
    "        ('clf', model),\n",
    "    ])\n",
    "\n",
    "    clf_pipe.fit(X_train, y_train)\n",
    "    \n",
    "    print(model)\n",
    "\n",
    "    score = clf_pipe.score(X_test, y_test)\n",
    "    print(\"Score:\", score)\n",
    "    \n",
    "def create_submit(model):\n",
    "    '''Fits training data and makes sumbission predictions'''\n",
    "    clf_pipe = Pipeline([\n",
    "        ('vect', CountVectorizer(stop_words='english', max_df=0.7)),\n",
    "        ('tfidf', TfidfTransformer()),\n",
    "        ('clf', model),\n",
    "    ])\n",
    "    # Fit and transform data \n",
    "    clf_pipe.fit(X_train, y_train)\n",
    "    # Make predictions\n",
    "    pred = clf_pipe.predict(test_df.text)\n",
    "    # add dataset labels preds to submission DF\n",
    "    test_df['PredictionString'] = pred\n",
    "    submission_df = test_df.drop(columns=['text']).set_index('Id')\n",
    "    return submission_df"
   ]
  },
  {
   "cell_type": "markdown",
   "metadata": {},
   "source": [
    "#### SGD"
   ]
  },
  {
   "cell_type": "code",
   "execution_count": 12,
   "metadata": {},
   "outputs": [
    {
     "name": "stdout",
     "output_type": "stream",
     "text": [
      "SGDClassifier()\n",
      "Score: 0.7076766649720386\n"
     ]
    }
   ],
   "source": [
    "from sklearn.linear_model import SGDClassifier\n",
    "\n",
    "sgd_model = SGDClassifier()\n",
    "\n",
    "model_test(sgd_model)\n",
    "\n",
    "# Score: 0.654393816110659"
   ]
  },
  {
   "cell_type": "markdown",
   "metadata": {},
   "source": [
    "#### SVM"
   ]
  },
  {
   "cell_type": "code",
   "execution_count": 13,
   "metadata": {},
   "outputs": [],
   "source": [
    "# from sklearn.svm import SVC\n",
    "\n",
    "# clf = SVC()\n",
    "# model_test(clf)\n",
    "\n",
    "# Score: 0.7054515866558178"
   ]
  },
  {
   "cell_type": "markdown",
   "metadata": {},
   "source": [
    "#### One Vs Rest testing"
   ]
  },
  {
   "cell_type": "code",
   "execution_count": 14,
   "metadata": {},
   "outputs": [],
   "source": [
    "# from sklearn.model_selection import GridSearchCV\n",
    "# from sklearn.linear_model import LogisticRegression\n",
    "# from sklearn.multiclass import OneVsRestClassifier\n",
    "\n",
    "# log_reg_clf = OneVsRestClassifier(LogisticRegression())\n",
    "\n",
    "# model_test(log_reg_clf)"
   ]
  },
  {
   "cell_type": "code",
   "execution_count": 15,
   "metadata": {},
   "outputs": [],
   "source": [
    "# from sklearn.multiclass import OneVsRestClassifier\n",
    "# from sklearn.svm import SVC\n",
    "\n",
    "# clf = OneVsRestClassifier(SVC())\n",
    "# model_test(clf)\n",
    "\n",
    "# Score: 0.7597640358014646"
   ]
  },
  {
   "cell_type": "markdown",
   "metadata": {},
   "source": [
    "#### Random Forest"
   ]
  },
  {
   "cell_type": "code",
   "execution_count": 16,
   "metadata": {},
   "outputs": [
    {
     "name": "stdout",
     "output_type": "stream",
     "text": [
      "RandomForestClassifier()\n",
      "Score: 0.7661413319776309\n"
     ]
    }
   ],
   "source": [
    "from sklearn.ensemble import RandomForestClassifier\n",
    "rfc = RandomForestClassifier()\n",
    "model_test(rfc)"
   ]
  },
  {
   "cell_type": "markdown",
   "metadata": {},
   "source": [
    "#### Multi Output Classifier testing"
   ]
  },
  {
   "cell_type": "code",
   "execution_count": 17,
   "metadata": {},
   "outputs": [],
   "source": [
    "# from sklearn.multioutput import MultiOutputClassifier\n",
    "\n",
    "# rfc = RandomForestClassifier(n_estimators=100, random_state=1)\n",
    "# pac = PassiveAggressiveClassifier()\n",
    "# clf = MultiOutputClassifier(pac)\n",
    "\n",
    "# clf.fit(tfidf_train, y_train2)\n",
    "# print(clf)\n",
    "\n",
    "# score = clf.score(tfidf_test, y_test2)\n",
    "# print(\"Score:\", score)\n",
    "\n",
    "# Score: 0.7701383238405207"
   ]
  },
  {
   "cell_type": "markdown",
   "metadata": {},
   "source": [
    "#### Passive Aggressive"
   ]
  },
  {
   "cell_type": "code",
   "execution_count": 28,
   "metadata": {},
   "outputs": [
    {
     "name": "stdout",
     "output_type": "stream",
     "text": [
      "PassiveAggressiveClassifier(validation_fraction=0.99)\n",
      "Score: 0.7981118373275236\n"
     ]
    }
   ],
   "source": [
    "from sklearn.linear_model import PassiveAggressiveClassifier \n",
    "clf = PassiveAggressiveClassifier(validation_fraction=.99)\n",
    "model_test(clf)\n",
    "\n",
    "# Score: 0.7782750203417412\n",
    "# Score: 0.7925775292323335\n",
    "# Score: 0.7925775292323335\n",
    "# Not warm: Score: 0.7956278596847992\n",
    "# high val_frac and lower test size: 0.7965670692943421\n",
    "# .08 test, .99 val_frac: 0.7981118373275236"
   ]
  },
  {
   "cell_type": "markdown",
   "metadata": {},
   "source": [
    "#### KNN"
   ]
  },
  {
   "cell_type": "code",
   "execution_count": 46,
   "metadata": {},
   "outputs": [
    {
     "name": "stdout",
     "output_type": "stream",
     "text": [
      "KNeighborsClassifier(n_neighbors=20)\n",
      "Score: 0.5532953620829943\n"
     ]
    }
   ],
   "source": [
    "from sklearn.neighbors import KNeighborsClassifier\n",
    "knn_model = KNeighborsClassifier(n_neighbors=20)\n",
    "model_test(knn_model)\n",
    "\n",
    "# KNeighborsClassifier(n_neighbors=20)\n",
    "# Score: 0.5502441008950366"
   ]
  },
  {
   "cell_type": "markdown",
   "metadata": {},
   "source": [
    "#### Naive Bayes\n",
    "##### Multinomial"
   ]
  },
  {
   "cell_type": "code",
   "execution_count": 47,
   "metadata": {},
   "outputs": [
    {
     "name": "stdout",
     "output_type": "stream",
     "text": [
      "MultinomialNB()\n",
      "Score: 0.31061838893409277\n"
     ]
    }
   ],
   "source": [
    "from sklearn.preprocessing import MultiLabelBinarizer\n",
    "from sklearn.naive_bayes import MultinomialNB\n",
    "multinom_nb = MultinomialNB()\n",
    "model_test(multinom_nb)\n",
    "\n",
    "# Score: 0.31061838893409277"
   ]
  },
  {
   "cell_type": "markdown",
   "metadata": {},
   "source": [
    "#### Naive Bayes\n",
    "##### Bernoulli"
   ]
  },
  {
   "cell_type": "code",
   "execution_count": 48,
   "metadata": {},
   "outputs": [
    {
     "name": "stdout",
     "output_type": "stream",
     "text": [
      "BernoulliNB()\n",
      "Score: 0.35862489829129374\n"
     ]
    }
   ],
   "source": [
    "from sklearn.naive_bayes import BernoulliNB\n",
    "bernoulli_nb = BernoulliNB()\n",
    "model_test(bernoulli_nb)\n",
    "\n",
    "# Score: 0.35862489829129374"
   ]
  },
  {
   "cell_type": "markdown",
   "metadata": {},
   "source": [
    "#### Testing KNN params"
   ]
  },
  {
   "cell_type": "code",
   "execution_count": 49,
   "metadata": {},
   "outputs": [],
   "source": [
    "# # Iterate through different k values to see which has the highest accuracy\n",
    "# train_scores = []\n",
    "# test_scores = []\n",
    "# for k in range(1, 20, 2):\n",
    "#     clf = KNeighborsClassifier(n_neighbors=k)\n",
    "#     clf.fit(tfidf_train, y_train)\n",
    "#     train_score = clf.score(tfidf_train, y_train)\n",
    "#     test_score = clf.score(tfidf_test, y_test)\n",
    "#     train_scores.append(train_score)\n",
    "#     test_scores.append(test_score)\n",
    "    \n",
    "# plt.plot(range(1, 20, 2), train_scores, marker='o')\n",
    "# plt.plot(range(1, 20, 2), test_scores, marker=\"x\")\n",
    "# plt.xlabel(\"k neighbors\")\n",
    "# plt.ylabel(\"Testing accuracy Score\")\n",
    "# plt.show()"
   ]
  },
  {
   "cell_type": "markdown",
   "metadata": {},
   "source": [
    "##### K=15"
   ]
  },
  {
   "cell_type": "code",
   "execution_count": 50,
   "metadata": {},
   "outputs": [
    {
     "name": "stdout",
     "output_type": "stream",
     "text": [
      "KNeighborsClassifier(n_neighbors=15)\n",
      "Score: 0.5618388934092758\n"
     ]
    }
   ],
   "source": [
    "# Create KNN classifer and fit it to training data\n",
    "knn_model = KNeighborsClassifier(n_neighbors=15)\n",
    "model_test(knn_model)\n",
    "\n",
    "# Score: 0.5598047192839707"
   ]
  },
  {
   "cell_type": "markdown",
   "metadata": {},
   "source": [
    "### ML submission 1"
   ]
  },
  {
   "cell_type": "code",
   "execution_count": 22,
   "metadata": {},
   "outputs": [
    {
     "data": {
      "text/html": [
       "<div>\n",
       "<style scoped>\n",
       "    .dataframe tbody tr th:only-of-type {\n",
       "        vertical-align: middle;\n",
       "    }\n",
       "\n",
       "    .dataframe tbody tr th {\n",
       "        vertical-align: top;\n",
       "    }\n",
       "\n",
       "    .dataframe thead th {\n",
       "        text-align: right;\n",
       "    }\n",
       "</style>\n",
       "<table border=\"1\" class=\"dataframe\">\n",
       "  <thead>\n",
       "    <tr style=\"text-align: right;\">\n",
       "      <th></th>\n",
       "      <th>PredictionString</th>\n",
       "    </tr>\n",
       "    <tr>\n",
       "      <th>Id</th>\n",
       "      <th></th>\n",
       "    </tr>\n",
       "  </thead>\n",
       "  <tbody>\n",
       "    <tr>\n",
       "      <th>2100032a-7c33-4bff-97ef-690822c43466</th>\n",
       "      <td>adni|alzheimer s disease neuroimaging initiati...</td>\n",
       "    </tr>\n",
       "    <tr>\n",
       "      <th>2f392438-e215-4169-bebf-21ac4ff253e1</th>\n",
       "      <td>nces common core of data|trends in internation...</td>\n",
       "    </tr>\n",
       "    <tr>\n",
       "      <th>3f316b38-1a24-45a9-8d8c-4e05a42257c6</th>\n",
       "      <td>slosh model|noaa storm surge inundation</td>\n",
       "    </tr>\n",
       "    <tr>\n",
       "      <th>8e6996b4-ca08-4c0b-bed2-aaf07a4c6a60</th>\n",
       "      <td>rural urban continuum codes</td>\n",
       "    </tr>\n",
       "  </tbody>\n",
       "</table>\n",
       "</div>"
      ],
      "text/plain": [
       "                                                                       PredictionString\n",
       "Id                                                                                     \n",
       "2100032a-7c33-4bff-97ef-690822c43466  adni|alzheimer s disease neuroimaging initiati...\n",
       "2f392438-e215-4169-bebf-21ac4ff253e1  nces common core of data|trends in internation...\n",
       "3f316b38-1a24-45a9-8d8c-4e05a42257c6            slosh model|noaa storm surge inundation\n",
       "8e6996b4-ca08-4c0b-bed2-aaf07a4c6a60                        rural urban continuum codes"
      ]
     },
     "execution_count": 22,
     "metadata": {},
     "output_type": "execute_result"
    }
   ],
   "source": [
    "submission_df = create_submit(PassiveAggressiveClassifier())\n",
    "submission_df"
   ]
  },
  {
   "cell_type": "code",
   "execution_count": 24,
   "metadata": {},
   "outputs": [],
   "source": [
    "# submission_df.to_csv('../output/submission_pac.csv')"
   ]
  },
  {
   "cell_type": "code",
   "execution_count": null,
   "metadata": {},
   "outputs": [],
   "source": []
  }
 ],
 "metadata": {
  "kernelspec": {
   "display_name": "Python 3",
   "language": "python",
   "name": "python3"
  },
  "language_info": {
   "codemirror_mode": {
    "name": "ipython",
    "version": 3
   },
   "file_extension": ".py",
   "mimetype": "text/x-python",
   "name": "python",
   "nbconvert_exporter": "python",
   "pygments_lexer": "ipython3",
   "version": "3.7.4"
  }
 },
 "nbformat": 4,
 "nbformat_minor": 2
}
