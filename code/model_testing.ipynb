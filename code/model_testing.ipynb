{
 "cells": [
  {
   "cell_type": "code",
   "execution_count": 2,
   "metadata": {},
   "outputs": [],
   "source": [
    "import pandas as pd\n",
    "import numpy as np\n",
    "import re\n",
    "import matplotlib.pyplot as plt\n",
    "import warnings\n",
    "warnings.filterwarnings('ignore')"
   ]
  },
  {
   "cell_type": "markdown",
   "metadata": {},
   "source": [
    "## Data"
   ]
  },
  {
   "cell_type": "code",
   "execution_count": 3,
   "metadata": {},
   "outputs": [],
   "source": [
    "# kaggle functions\n",
    "def clean_text(txt):\n",
    "    return re.sub('[^A-Za-z0-9]+', ' ', str(txt).lower()).strip()"
   ]
  },
  {
   "cell_type": "code",
   "execution_count": 4,
   "metadata": {},
   "outputs": [
    {
     "data": {
      "text/html": [
       "<div>\n",
       "<style scoped>\n",
       "    .dataframe tbody tr th:only-of-type {\n",
       "        vertical-align: middle;\n",
       "    }\n",
       "\n",
       "    .dataframe tbody tr th {\n",
       "        vertical-align: top;\n",
       "    }\n",
       "\n",
       "    .dataframe thead th {\n",
       "        text-align: right;\n",
       "    }\n",
       "</style>\n",
       "<table border=\"1\" class=\"dataframe\">\n",
       "  <thead>\n",
       "    <tr style=\"text-align: right;\">\n",
       "      <th></th>\n",
       "      <th>Id</th>\n",
       "      <th>pub_title</th>\n",
       "      <th>dataset_title</th>\n",
       "      <th>dataset_label</th>\n",
       "      <th>cleaned_label</th>\n",
       "      <th>text</th>\n",
       "      <th>all_labels</th>\n",
       "    </tr>\n",
       "  </thead>\n",
       "  <tbody>\n",
       "    <tr>\n",
       "      <th>0</th>\n",
       "      <td>d0fa7568-7d8e-4db9-870f-f9c6f668c17b</td>\n",
       "      <td>The Impact of Dual Enrollment on College Degre...</td>\n",
       "      <td>National Education Longitudinal Study</td>\n",
       "      <td>National Education Longitudinal Study</td>\n",
       "      <td>national education longitudinal study</td>\n",
       "      <td>section title what is this study about text th...</td>\n",
       "      <td>national education longitudinal study|educatio...</td>\n",
       "    </tr>\n",
       "    <tr>\n",
       "      <th>1</th>\n",
       "      <td>2f26f645-3dec-485d-b68d-f013c9e05e60</td>\n",
       "      <td>Educational Attainment of High School Dropouts...</td>\n",
       "      <td>National Education Longitudinal Study</td>\n",
       "      <td>National Education Longitudinal Study</td>\n",
       "      <td>national education longitudinal study</td>\n",
       "      <td>section title november 2004 text dropping out ...</td>\n",
       "      <td>national education longitudinal study|educatio...</td>\n",
       "    </tr>\n",
       "    <tr>\n",
       "      <th>2</th>\n",
       "      <td>c5d5cd2c-59de-4f29-bbb1-6a88c7b52f29</td>\n",
       "      <td>Differences in Outcomes for Female and Male St...</td>\n",
       "      <td>National Education Longitudinal Study</td>\n",
       "      <td>National Education Longitudinal Study</td>\n",
       "      <td>national education longitudinal study</td>\n",
       "      <td>section title differences in outcomes for fema...</td>\n",
       "      <td>national education longitudinal study|educatio...</td>\n",
       "    </tr>\n",
       "    <tr>\n",
       "      <th>3</th>\n",
       "      <td>5c9a3bc9-41ba-4574-ad71-e25c1442c8af</td>\n",
       "      <td>Stepping Stone and Option Value in a Model of ...</td>\n",
       "      <td>National Education Longitudinal Study</td>\n",
       "      <td>National Education Longitudinal Study</td>\n",
       "      <td>national education longitudinal study</td>\n",
       "      <td>section title abstract text federal reserve ba...</td>\n",
       "      <td>national education longitudinal study|educatio...</td>\n",
       "    </tr>\n",
       "    <tr>\n",
       "      <th>4</th>\n",
       "      <td>c754dec7-c5a3-4337-9892-c02158475064</td>\n",
       "      <td>Parental Effort, School Resources, and Student...</td>\n",
       "      <td>National Education Longitudinal Study</td>\n",
       "      <td>National Education Longitudinal Study</td>\n",
       "      <td>national education longitudinal study</td>\n",
       "      <td>section title abstract text this article inves...</td>\n",
       "      <td>national education longitudinal study|educatio...</td>\n",
       "    </tr>\n",
       "  </tbody>\n",
       "</table>\n",
       "</div>"
      ],
      "text/plain": [
       "                                     Id  \\\n",
       "0  d0fa7568-7d8e-4db9-870f-f9c6f668c17b   \n",
       "1  2f26f645-3dec-485d-b68d-f013c9e05e60   \n",
       "2  c5d5cd2c-59de-4f29-bbb1-6a88c7b52f29   \n",
       "3  5c9a3bc9-41ba-4574-ad71-e25c1442c8af   \n",
       "4  c754dec7-c5a3-4337-9892-c02158475064   \n",
       "\n",
       "                                           pub_title  \\\n",
       "0  The Impact of Dual Enrollment on College Degre...   \n",
       "1  Educational Attainment of High School Dropouts...   \n",
       "2  Differences in Outcomes for Female and Male St...   \n",
       "3  Stepping Stone and Option Value in a Model of ...   \n",
       "4  Parental Effort, School Resources, and Student...   \n",
       "\n",
       "                           dataset_title  \\\n",
       "0  National Education Longitudinal Study   \n",
       "1  National Education Longitudinal Study   \n",
       "2  National Education Longitudinal Study   \n",
       "3  National Education Longitudinal Study   \n",
       "4  National Education Longitudinal Study   \n",
       "\n",
       "                           dataset_label  \\\n",
       "0  National Education Longitudinal Study   \n",
       "1  National Education Longitudinal Study   \n",
       "2  National Education Longitudinal Study   \n",
       "3  National Education Longitudinal Study   \n",
       "4  National Education Longitudinal Study   \n",
       "\n",
       "                           cleaned_label  \\\n",
       "0  national education longitudinal study   \n",
       "1  national education longitudinal study   \n",
       "2  national education longitudinal study   \n",
       "3  national education longitudinal study   \n",
       "4  national education longitudinal study   \n",
       "\n",
       "                                                text  \\\n",
       "0  section title what is this study about text th...   \n",
       "1  section title november 2004 text dropping out ...   \n",
       "2  section title differences in outcomes for fema...   \n",
       "3  section title abstract text federal reserve ba...   \n",
       "4  section title abstract text this article inves...   \n",
       "\n",
       "                                          all_labels  \n",
       "0  national education longitudinal study|educatio...  \n",
       "1  national education longitudinal study|educatio...  \n",
       "2  national education longitudinal study|educatio...  \n",
       "3  national education longitudinal study|educatio...  \n",
       "4  national education longitudinal study|educatio...  "
      ]
     },
     "execution_count": 4,
     "metadata": {},
     "output_type": "execute_result"
    }
   ],
   "source": [
    "train_df = pd.DataFrame(pd.read_csv('../resources/combined_data/train_with_text.csv'))\n",
    "test_df = pd.read_csv('../resources/combined_data/test_with_text.csv')\n",
    "train_df.head()"
   ]
  },
  {
   "cell_type": "code",
   "execution_count": 5,
   "metadata": {},
   "outputs": [],
   "source": [
    "# both_labels = train_df['all_labels'].str.split('|', n=1, expand = True)\n",
    "# train_df['label_1'] = both_labels[0]\n",
    "# train_df['label_2'] = both_labels[1]\n",
    "# train_df['label_2'] = train_df['label_2'].fillna(' ',inplace=True)\n",
    "# train_df['label_2'] = train_df['label_2'].replace('None', '', inplace=True)\n",
    "# train_df "
   ]
  },
  {
   "cell_type": "code",
   "execution_count": 6,
   "metadata": {},
   "outputs": [],
   "source": [
    "# train_df['label_2'] = np.where(train_df['label_2']==train_df['label_1'], '', train_df['label_2'])\n",
    "# train_df"
   ]
  },
  {
   "cell_type": "code",
   "execution_count": null,
   "metadata": {},
   "outputs": [],
   "source": []
  },
  {
   "cell_type": "markdown",
   "metadata": {},
   "source": [
    "## Submission 1 (cheating)"
   ]
  },
  {
   "cell_type": "code",
   "execution_count": 7,
   "metadata": {},
   "outputs": [
    {
     "data": {
      "text/html": [
       "<div>\n",
       "<style scoped>\n",
       "    .dataframe tbody tr th:only-of-type {\n",
       "        vertical-align: middle;\n",
       "    }\n",
       "\n",
       "    .dataframe tbody tr th {\n",
       "        vertical-align: top;\n",
       "    }\n",
       "\n",
       "    .dataframe thead th {\n",
       "        text-align: right;\n",
       "    }\n",
       "</style>\n",
       "<table border=\"1\" class=\"dataframe\">\n",
       "  <thead>\n",
       "    <tr style=\"text-align: right;\">\n",
       "      <th></th>\n",
       "      <th>PredictionString</th>\n",
       "    </tr>\n",
       "    <tr>\n",
       "      <th>Id</th>\n",
       "      <th></th>\n",
       "    </tr>\n",
       "  </thead>\n",
       "  <tbody>\n",
       "    <tr>\n",
       "      <th>2100032a-7c33-4bff-97ef-690822c43466</th>\n",
       "      <td>adni|alzheimer s disease neuroimaging initiati...</td>\n",
       "    </tr>\n",
       "    <tr>\n",
       "      <th>2f392438-e215-4169-bebf-21ac4ff253e1</th>\n",
       "      <td>nces common core of data|trends in internation...</td>\n",
       "    </tr>\n",
       "    <tr>\n",
       "      <th>3f316b38-1a24-45a9-8d8c-4e05a42257c6</th>\n",
       "      <td>slosh model|noaa storm surge inundation</td>\n",
       "    </tr>\n",
       "    <tr>\n",
       "      <th>8e6996b4-ca08-4c0b-bed2-aaf07a4c6a60</th>\n",
       "      <td>rural urban continuum codes</td>\n",
       "    </tr>\n",
       "  </tbody>\n",
       "</table>\n",
       "</div>"
      ],
      "text/plain": [
       "                                                                       PredictionString\n",
       "Id                                                                                     \n",
       "2100032a-7c33-4bff-97ef-690822c43466  adni|alzheimer s disease neuroimaging initiati...\n",
       "2f392438-e215-4169-bebf-21ac4ff253e1  nces common core of data|trends in internation...\n",
       "3f316b38-1a24-45a9-8d8c-4e05a42257c6            slosh model|noaa storm surge inundation\n",
       "8e6996b4-ca08-4c0b-bed2-aaf07a4c6a60                        rural urban continuum codes"
      ]
     },
     "execution_count": 7,
     "metadata": {},
     "output_type": "execute_result"
    }
   ],
   "source": [
    "# add all dataset labels in training set to list \n",
    "datasets_titles = train_df.cleaned_label.unique()\n",
    "\n",
    "# check if in test text and add to submission dataframe \n",
    "labels = []\n",
    "for index in test_df['Id']:\n",
    "    text = test_df[test_df['Id'] == index].text.str.cat(sep='\\n').lower()\n",
    "    label = []\n",
    "    for dataset_title in datasets_titles:\n",
    "        if dataset_title in text:\n",
    "            label.append(clean_text(dataset_title))\n",
    "    labels.append('|'.join(label))\n",
    "\n",
    "test_df['PredictionString'] = labels\n",
    "\n",
    "submission_df = test_df.drop(columns=['text']).set_index('Id')\n",
    "\n",
    "submission_df"
   ]
  },
  {
   "cell_type": "code",
   "execution_count": 8,
   "metadata": {},
   "outputs": [],
   "source": [
    "# submission_df.to_csv('../output/submission1.csv')"
   ]
  },
  {
   "cell_type": "markdown",
   "metadata": {},
   "source": [
    "## ML approach"
   ]
  },
  {
   "cell_type": "markdown",
   "metadata": {},
   "source": [
    "#### Feature engineering"
   ]
  },
  {
   "cell_type": "code",
   "execution_count": 9,
   "metadata": {},
   "outputs": [
    {
     "name": "stdout",
     "output_type": "stream",
     "text": [
      "(19661,) (19661,)\n"
     ]
    }
   ],
   "source": [
    "X = train_df['text']\n",
    "y = train_df['all_labels']\n",
    "# y2 = train_df[['label_1','label_2']]\n",
    "\n",
    "print(X.shape, y.shape)"
   ]
  },
  {
   "cell_type": "code",
   "execution_count": 10,
   "metadata": {},
   "outputs": [],
   "source": [
    "# split data\n",
    "from sklearn.model_selection import train_test_split\n",
    "X_train, X_test, y_train, y_test = train_test_split(X, y, random_state=42)"
   ]
  },
  {
   "cell_type": "code",
   "execution_count": 11,
   "metadata": {},
   "outputs": [],
   "source": [
    "from sklearn.feature_extraction.text import CountVectorizer\n",
    "from sklearn.feature_extraction.text import TfidfTransformer, TfidfVectorizer\n",
    "# Initialize CountVectorizer\n",
    "count_vec = CountVectorizer(stop_words='english', max_df=0.7) \n",
    "# Fit and transform training data \n",
    "count_vec_train = count_vec.fit_transform(X_train) \n",
    "# Transform test set \n",
    "count_vec_test = count_vec.transform(X_test)\n",
    "# Initialize tfidf_vectorizer\n",
    "tfidf_transformer = TfidfTransformer() \n",
    "# Fit and transform training data \n",
    "tfidf_train = tfidf_transformer.fit_transform(count_vec_train) \n",
    "# Transform test set \n",
    "tfidf_test = tfidf_transformer.transform(count_vec_test)\n",
    "# tfidf_df = pd.DataFrame(tfidf_train.A, columns=TfidfTransformer.get_feature_names())\n",
    "# tfidf_df"
   ]
  },
  {
   "cell_type": "code",
   "execution_count": 12,
   "metadata": {},
   "outputs": [],
   "source": [
    "# more functions\n",
    "from sklearn.pipeline import Pipeline\n",
    "from sklearn.feature_extraction.text import CountVectorizer, TfidfTransformer, TfidfVectorizer\n",
    "from sklearn.metrics import precision_score, recall_score, confusion_matrix\n",
    "\n",
    "def model_test(model):\n",
    "    '''Quickly creates pipeline and displays scores for testing'''\n",
    "    \n",
    "    clf_pipe = Pipeline([\n",
    "        ('vect', CountVectorizer(stop_words='english', max_df=0.7)),\n",
    "        ('tfidf', TfidfTransformer()),\n",
    "        ('clf', model),\n",
    "    ])\n",
    "\n",
    "    clf_pipe.fit(X_train, y_train)\n",
    "    \n",
    "    print(model)\n",
    "\n",
    "    score = clf_pipe.score(X_test, y_test)\n",
    "    print(\"Score:\", score)\n",
    "\n",
    "    pred = clf_pipe.predict(X_test)\n",
    "\n",
    "    print(\"Precision score: \",precision_score(y_test, pred, pos_label='positive', average='micro'))\n",
    "    print(\"Recall score:\", recall_score(y_test, pred, pos_label='positive', average='micro'))\n",
    "    print('-----------------')\n",
    "    \n",
    "def create_submit(model):\n",
    "    '''Fits training data and makes sumbission predictions'''\n",
    "    clf_pipe = Pipeline([\n",
    "        ('vect', CountVectorizer(stop_words='english', max_df=0.7)),\n",
    "        ('tfidf', TfidfTransformer()),\n",
    "        ('clf', model),\n",
    "    ])\n",
    "    # Fit and transform data \n",
    "    clf_pipe.fit(X_train, y_train)\n",
    "    # Make predictions\n",
    "    pred = clf_pipe.predict(test_df.text)\n",
    "    # add dataset labels preds to submission DF\n",
    "    test_df['PredictionString'] = pred\n",
    "    submission_df = test_df.drop(columns=['text']).set_index('Id')\n",
    "    return submission_df"
   ]
  },
  {
   "cell_type": "markdown",
   "metadata": {},
   "source": [
    "#### SGD"
   ]
  },
  {
   "cell_type": "code",
   "execution_count": 13,
   "metadata": {},
   "outputs": [
    {
     "name": "stdout",
     "output_type": "stream",
     "text": [
      "SGDClassifier(alpha=0.001, max_iter=5, random_state=42, tol=None)\n",
      "Score: 0.654393816110659\n",
      "Precision score:  0.654393816110659\n",
      "Recall score: 0.654393816110659\n",
      "-----------------\n"
     ]
    }
   ],
   "source": [
    "from sklearn.naive_bayes import MultinomialNB\n",
    "from sklearn.linear_model import PassiveAggressiveClassifier, SGDClassifier\n",
    "from sklearn.neighbors import KNeighborsClassifier\n",
    "\n",
    "sgd_model = SGDClassifier(loss='hinge', penalty='l2',\n",
    "                          alpha=1e-3, random_state=42,\n",
    "                          max_iter=5, tol=None)\n",
    "\n",
    "model_test(sgd_model)"
   ]
  },
  {
   "cell_type": "markdown",
   "metadata": {},
   "source": [
    "#### SGD gird search"
   ]
  },
  {
   "cell_type": "code",
   "execution_count": null,
   "metadata": {},
   "outputs": [],
   "source": []
  },
  {
   "cell_type": "markdown",
   "metadata": {},
   "source": [
    "#### OneVsRest grid search"
   ]
  },
  {
   "cell_type": "code",
   "execution_count": 87,
   "metadata": {},
   "outputs": [],
   "source": [
    "# from sklearn.model_selection import GridSearchCV\n",
    "# from sklearn.linear_model import LogisticRegression\n",
    "# from sklearn.multiclass import OneVsRestClassifier\n",
    "\n",
    "# params = [{'estimator__C': [100, 10, 1, 0.1, 0.01, 0.001, 0.0001]}]\n",
    "\n",
    "# log_reg_clf = OneVsRestClassifier(LogisticRegression())\n",
    "\n",
    "# logistic_gs = GridSearchCV(log_reg_clf, params, scoring='f1_micro', cv=3)\n",
    "\n",
    "# logistic_gs.fit(tfidf_train, y_train)\n",
    "# print(logistic_gs.best_estimator_)"
   ]
  },
  {
   "cell_type": "markdown",
   "metadata": {},
   "source": [
    "#### Random Forest testing"
   ]
  },
  {
   "cell_type": "code",
   "execution_count": 14,
   "metadata": {},
   "outputs": [],
   "source": [
    "# from sklearn.ensemble import RandomForestClassifier\n",
    "# from sklearn.multioutput import MultiOutputClassifier\n",
    "\n",
    "# rfc = RandomForestClassifier(n_estimators=100, random_state=1)\n",
    "# clf = MultiOutputClassifier(rfc, n_jobs=-1)\n",
    "# clf.fit(tfidf_train, y_train)\n",
    "\n",
    "# score = clf.score(tfidf_test, y_test)\n",
    "# print(\"Score:\", score)\n",
    "\n",
    "# pred = clf.predict(tfidf_test)\n",
    "\n",
    "# print(\"Precision score: \",precision_score(y_test, pred, pos_label='positive', average='micro'))\n",
    "# print(\"Recall score:\", recall_score(y_test, pred, pos_label='positive', average='micro'))\n",
    "# print('-----------------')"
   ]
  },
  {
   "cell_type": "markdown",
   "metadata": {},
   "source": [
    "#### Passive Aggressive"
   ]
  },
  {
   "cell_type": "code",
   "execution_count": 15,
   "metadata": {},
   "outputs": [
    {
     "name": "stdout",
     "output_type": "stream",
     "text": [
      "PassiveAggressiveClassifier()\n",
      "Score: 0.7786818551668023\n",
      "Precision score:  0.7786818551668023\n",
      "Recall score: 0.7786818551668023\n",
      "-----------------\n"
     ]
    }
   ],
   "source": [
    "from sklearn.linear_model import PassiveAggressiveClassifier \n",
    "model_test(PassiveAggressiveClassifier())"
   ]
  },
  {
   "cell_type": "markdown",
   "metadata": {},
   "source": [
    "#### KNN"
   ]
  },
  {
   "cell_type": "code",
   "execution_count": 16,
   "metadata": {},
   "outputs": [
    {
     "name": "stdout",
     "output_type": "stream",
     "text": [
      "KNeighborsClassifier(n_neighbors=20)\n",
      "Score: 0.5502441008950366\n",
      "Precision score:  0.5502441008950366\n",
      "Recall score: 0.5502441008950366\n",
      "-----------------\n"
     ]
    }
   ],
   "source": [
    "from sklearn.neighbors import KNeighborsClassifier\n",
    "knn_model = KNeighborsClassifier(n_neighbors=20)\n",
    "model_test(knn_model)"
   ]
  },
  {
   "cell_type": "markdown",
   "metadata": {},
   "source": [
    "#### Naive Bayes\n",
    "##### Multinomial"
   ]
  },
  {
   "cell_type": "code",
   "execution_count": 17,
   "metadata": {},
   "outputs": [
    {
     "name": "stdout",
     "output_type": "stream",
     "text": [
      "MultinomialNB()\n",
      "Score: 0.31061838893409277\n",
      "Precision score:  0.31061838893409277\n",
      "Recall score: 0.31061838893409277\n",
      "-----------------\n"
     ]
    }
   ],
   "source": [
    "from sklearn.preprocessing import MultiLabelBinarizer\n",
    "from sklearn.naive_bayes import MultinomialNB\n",
    "multinom_nb = MultinomialNB()\n",
    "model_test(multinom_nb)"
   ]
  },
  {
   "cell_type": "markdown",
   "metadata": {},
   "source": [
    "#### Naive Bayes\n",
    "##### Bernoulli"
   ]
  },
  {
   "cell_type": "code",
   "execution_count": 18,
   "metadata": {},
   "outputs": [
    {
     "name": "stdout",
     "output_type": "stream",
     "text": [
      "BernoulliNB()\n",
      "Score: 0.35862489829129374\n",
      "Precision score:  0.35862489829129374\n",
      "Recall score: 0.35862489829129374\n",
      "-----------------\n"
     ]
    }
   ],
   "source": [
    "from sklearn.naive_bayes import BernoulliNB\n",
    "bernoulli_nb = BernoulliNB()\n",
    "model_test(bernoulli_nb)"
   ]
  },
  {
   "cell_type": "markdown",
   "metadata": {},
   "source": [
    "#### Testing KNN params"
   ]
  },
  {
   "cell_type": "code",
   "execution_count": 19,
   "metadata": {},
   "outputs": [],
   "source": [
    "# # Iterate through different k values to see which has the highest accuracy\n",
    "# train_scores = []\n",
    "# test_scores = []\n",
    "# for k in range(1, 20, 2):\n",
    "#     clf = KNeighborsClassifier(n_neighbors=k)\n",
    "#     clf.fit(tfidf_train, y_train)\n",
    "#     train_score = clf.score(tfidf_train, y_train)\n",
    "#     test_score = clf.score(tfidf_test, y_test)\n",
    "#     train_scores.append(train_score)\n",
    "#     test_scores.append(test_score)\n",
    "    \n",
    "# plt.plot(range(1, 20, 2), train_scores, marker='o')\n",
    "# plt.plot(range(1, 20, 2), test_scores, marker=\"x\")\n",
    "# plt.xlabel(\"k neighbors\")\n",
    "# plt.ylabel(\"Testing accuracy Score\")\n",
    "# plt.show()"
   ]
  },
  {
   "cell_type": "markdown",
   "metadata": {},
   "source": [
    "##### K=15"
   ]
  },
  {
   "cell_type": "code",
   "execution_count": 21,
   "metadata": {},
   "outputs": [
    {
     "name": "stdout",
     "output_type": "stream",
     "text": [
      "KNeighborsClassifier(n_neighbors=15)\n",
      "Score: 0.5598047192839707\n",
      "Precision score:  0.5598047192839707\n",
      "Recall score: 0.5598047192839707\n",
      "-----------------\n"
     ]
    }
   ],
   "source": [
    "# Create KNN classifer and fit it to training data\n",
    "knn_model = KNeighborsClassifier(n_neighbors=15)\n",
    "model_test(knn_model)"
   ]
  },
  {
   "cell_type": "markdown",
   "metadata": {},
   "source": [
    "### ML submission 1"
   ]
  },
  {
   "cell_type": "code",
   "execution_count": 22,
   "metadata": {},
   "outputs": [
    {
     "data": {
      "text/html": [
       "<div>\n",
       "<style scoped>\n",
       "    .dataframe tbody tr th:only-of-type {\n",
       "        vertical-align: middle;\n",
       "    }\n",
       "\n",
       "    .dataframe tbody tr th {\n",
       "        vertical-align: top;\n",
       "    }\n",
       "\n",
       "    .dataframe thead th {\n",
       "        text-align: right;\n",
       "    }\n",
       "</style>\n",
       "<table border=\"1\" class=\"dataframe\">\n",
       "  <thead>\n",
       "    <tr style=\"text-align: right;\">\n",
       "      <th></th>\n",
       "      <th>PredictionString</th>\n",
       "    </tr>\n",
       "    <tr>\n",
       "      <th>Id</th>\n",
       "      <th></th>\n",
       "    </tr>\n",
       "  </thead>\n",
       "  <tbody>\n",
       "    <tr>\n",
       "      <th>2100032a-7c33-4bff-97ef-690822c43466</th>\n",
       "      <td>adni|alzheimer s disease neuroimaging initiati...</td>\n",
       "    </tr>\n",
       "    <tr>\n",
       "      <th>2f392438-e215-4169-bebf-21ac4ff253e1</th>\n",
       "      <td>nces common core of data|trends in internation...</td>\n",
       "    </tr>\n",
       "    <tr>\n",
       "      <th>3f316b38-1a24-45a9-8d8c-4e05a42257c6</th>\n",
       "      <td>slosh model|noaa storm surge inundation</td>\n",
       "    </tr>\n",
       "    <tr>\n",
       "      <th>8e6996b4-ca08-4c0b-bed2-aaf07a4c6a60</th>\n",
       "      <td>rural urban continuum codes</td>\n",
       "    </tr>\n",
       "  </tbody>\n",
       "</table>\n",
       "</div>"
      ],
      "text/plain": [
       "                                                                       PredictionString\n",
       "Id                                                                                     \n",
       "2100032a-7c33-4bff-97ef-690822c43466  adni|alzheimer s disease neuroimaging initiati...\n",
       "2f392438-e215-4169-bebf-21ac4ff253e1  nces common core of data|trends in internation...\n",
       "3f316b38-1a24-45a9-8d8c-4e05a42257c6            slosh model|noaa storm surge inundation\n",
       "8e6996b4-ca08-4c0b-bed2-aaf07a4c6a60                        rural urban continuum codes"
      ]
     },
     "execution_count": 22,
     "metadata": {},
     "output_type": "execute_result"
    }
   ],
   "source": [
    "submission_df = create_submit(PassiveAggressiveClassifier())\n",
    "submission_df"
   ]
  },
  {
   "cell_type": "code",
   "execution_count": 24,
   "metadata": {},
   "outputs": [],
   "source": [
    "submission_df.to_csv('../output/submission_pac.csv')"
   ]
  },
  {
   "cell_type": "code",
   "execution_count": null,
   "metadata": {},
   "outputs": [],
   "source": []
  }
 ],
 "metadata": {
  "kernelspec": {
   "display_name": "Python 3",
   "language": "python",
   "name": "python3"
  },
  "language_info": {
   "codemirror_mode": {
    "name": "ipython",
    "version": 3
   },
   "file_extension": ".py",
   "mimetype": "text/x-python",
   "name": "python",
   "nbconvert_exporter": "python",
   "pygments_lexer": "ipython3",
   "version": "3.7.4"
  }
 },
 "nbformat": 4,
 "nbformat_minor": 2
}
