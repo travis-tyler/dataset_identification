{
 "cells": [
  {
   "cell_type": "code",
   "execution_count": 46,
   "metadata": {},
   "outputs": [],
   "source": [
    "import pandas as pd\n",
    "from tqdm.auto import tqdm\n",
    "import numpy as np\n",
    "import re\n",
    "import matplotlib.pyplot as plt\n",
    "import warnings\n",
    "warnings.filterwarnings('ignore')"
   ]
  },
  {
   "cell_type": "markdown",
   "metadata": {},
   "source": [
    "## Data"
   ]
  },
  {
   "cell_type": "code",
   "execution_count": 47,
   "metadata": {},
   "outputs": [],
   "source": [
    "# kaggle functions\n",
    "def clean_text(txt):\n",
    "    return re.sub('[^A-Za-z0-9]+', ' ', str(txt).lower()).strip()"
   ]
  },
  {
   "cell_type": "code",
   "execution_count": 49,
   "metadata": {},
   "outputs": [
    {
     "data": {
      "text/html": [
       "<div>\n",
       "<style scoped>\n",
       "    .dataframe tbody tr th:only-of-type {\n",
       "        vertical-align: middle;\n",
       "    }\n",
       "\n",
       "    .dataframe tbody tr th {\n",
       "        vertical-align: top;\n",
       "    }\n",
       "\n",
       "    .dataframe thead th {\n",
       "        text-align: right;\n",
       "    }\n",
       "</style>\n",
       "<table border=\"1\" class=\"dataframe\">\n",
       "  <thead>\n",
       "    <tr style=\"text-align: right;\">\n",
       "      <th></th>\n",
       "      <th>Id</th>\n",
       "      <th>pub_title</th>\n",
       "      <th>dataset_title</th>\n",
       "      <th>dataset_label</th>\n",
       "      <th>cleaned_label</th>\n",
       "      <th>text</th>\n",
       "      <th>all_labels</th>\n",
       "    </tr>\n",
       "  </thead>\n",
       "  <tbody>\n",
       "    <tr>\n",
       "      <th>0</th>\n",
       "      <td>d0fa7568-7d8e-4db9-870f-f9c6f668c17b</td>\n",
       "      <td>The Impact of Dual Enrollment on College Degre...</td>\n",
       "      <td>National Education Longitudinal Study</td>\n",
       "      <td>National Education Longitudinal Study</td>\n",
       "      <td>national education longitudinal study</td>\n",
       "      <td>what is this study about this study used data ...</td>\n",
       "      <td>education longitudinal study|national educatio...</td>\n",
       "    </tr>\n",
       "    <tr>\n",
       "      <th>1</th>\n",
       "      <td>2f26f645-3dec-485d-b68d-f013c9e05e60</td>\n",
       "      <td>Educational Attainment of High School Dropouts...</td>\n",
       "      <td>National Education Longitudinal Study</td>\n",
       "      <td>National Education Longitudinal Study</td>\n",
       "      <td>national education longitudinal study</td>\n",
       "      <td>november 2004 dropping out of high school is n...</td>\n",
       "      <td>education longitudinal study|national educatio...</td>\n",
       "    </tr>\n",
       "    <tr>\n",
       "      <th>2</th>\n",
       "      <td>c5d5cd2c-59de-4f29-bbb1-6a88c7b52f29</td>\n",
       "      <td>Differences in Outcomes for Female and Male St...</td>\n",
       "      <td>National Education Longitudinal Study</td>\n",
       "      <td>National Education Longitudinal Study</td>\n",
       "      <td>national education longitudinal study</td>\n",
       "      <td>differences in outcomes for female and male st...</td>\n",
       "      <td>education longitudinal study|national educatio...</td>\n",
       "    </tr>\n",
       "    <tr>\n",
       "      <th>3</th>\n",
       "      <td>5c9a3bc9-41ba-4574-ad71-e25c1442c8af</td>\n",
       "      <td>Stepping Stone and Option Value in a Model of ...</td>\n",
       "      <td>National Education Longitudinal Study</td>\n",
       "      <td>National Education Longitudinal Study</td>\n",
       "      <td>national education longitudinal study</td>\n",
       "      <td>abstract federal reserve bank of richmond s1 a...</td>\n",
       "      <td>education longitudinal study|national educatio...</td>\n",
       "    </tr>\n",
       "    <tr>\n",
       "      <th>4</th>\n",
       "      <td>c754dec7-c5a3-4337-9892-c02158475064</td>\n",
       "      <td>Parental Effort, School Resources, and Student...</td>\n",
       "      <td>National Education Longitudinal Study</td>\n",
       "      <td>National Education Longitudinal Study</td>\n",
       "      <td>national education longitudinal study</td>\n",
       "      <td>abstract this article investigates an importan...</td>\n",
       "      <td>education longitudinal study|national educatio...</td>\n",
       "    </tr>\n",
       "  </tbody>\n",
       "</table>\n",
       "</div>"
      ],
      "text/plain": [
       "                                     Id  \\\n",
       "0  d0fa7568-7d8e-4db9-870f-f9c6f668c17b   \n",
       "1  2f26f645-3dec-485d-b68d-f013c9e05e60   \n",
       "2  c5d5cd2c-59de-4f29-bbb1-6a88c7b52f29   \n",
       "3  5c9a3bc9-41ba-4574-ad71-e25c1442c8af   \n",
       "4  c754dec7-c5a3-4337-9892-c02158475064   \n",
       "\n",
       "                                           pub_title  \\\n",
       "0  The Impact of Dual Enrollment on College Degre...   \n",
       "1  Educational Attainment of High School Dropouts...   \n",
       "2  Differences in Outcomes for Female and Male St...   \n",
       "3  Stepping Stone and Option Value in a Model of ...   \n",
       "4  Parental Effort, School Resources, and Student...   \n",
       "\n",
       "                           dataset_title  \\\n",
       "0  National Education Longitudinal Study   \n",
       "1  National Education Longitudinal Study   \n",
       "2  National Education Longitudinal Study   \n",
       "3  National Education Longitudinal Study   \n",
       "4  National Education Longitudinal Study   \n",
       "\n",
       "                           dataset_label  \\\n",
       "0  National Education Longitudinal Study   \n",
       "1  National Education Longitudinal Study   \n",
       "2  National Education Longitudinal Study   \n",
       "3  National Education Longitudinal Study   \n",
       "4  National Education Longitudinal Study   \n",
       "\n",
       "                           cleaned_label  \\\n",
       "0  national education longitudinal study   \n",
       "1  national education longitudinal study   \n",
       "2  national education longitudinal study   \n",
       "3  national education longitudinal study   \n",
       "4  national education longitudinal study   \n",
       "\n",
       "                                                text  \\\n",
       "0  what is this study about this study used data ...   \n",
       "1  november 2004 dropping out of high school is n...   \n",
       "2  differences in outcomes for female and male st...   \n",
       "3  abstract federal reserve bank of richmond s1 a...   \n",
       "4  abstract this article investigates an importan...   \n",
       "\n",
       "                                          all_labels  \n",
       "0  education longitudinal study|national educatio...  \n",
       "1  education longitudinal study|national educatio...  \n",
       "2  education longitudinal study|national educatio...  \n",
       "3  education longitudinal study|national educatio...  \n",
       "4  education longitudinal study|national educatio...  "
      ]
     },
     "execution_count": 49,
     "metadata": {},
     "output_type": "execute_result"
    }
   ],
   "source": [
    "train_df = pd.DataFrame(pd.read_csv('../resources/combined_data/train_with_text_labels.csv'))\n",
    "test_df = pd.read_csv('../resources/combined_data/test_with_text.csv')\n",
    "train_df.head()"
   ]
  },
  {
   "cell_type": "markdown",
   "metadata": {},
   "source": [
    "## Baseline model"
   ]
  },
  {
   "cell_type": "code",
   "execution_count": 50,
   "metadata": {},
   "outputs": [
    {
     "data": {
      "text/html": [
       "<div>\n",
       "<style scoped>\n",
       "    .dataframe tbody tr th:only-of-type {\n",
       "        vertical-align: middle;\n",
       "    }\n",
       "\n",
       "    .dataframe tbody tr th {\n",
       "        vertical-align: top;\n",
       "    }\n",
       "\n",
       "    .dataframe thead th {\n",
       "        text-align: right;\n",
       "    }\n",
       "</style>\n",
       "<table border=\"1\" class=\"dataframe\">\n",
       "  <thead>\n",
       "    <tr style=\"text-align: right;\">\n",
       "      <th></th>\n",
       "      <th>PredictionString</th>\n",
       "    </tr>\n",
       "    <tr>\n",
       "      <th>Id</th>\n",
       "      <th></th>\n",
       "    </tr>\n",
       "  </thead>\n",
       "  <tbody>\n",
       "    <tr>\n",
       "      <th>2100032a-7c33-4bff-97ef-690822c43466</th>\n",
       "      <td>alzheimer s disease neuroimaging initiative ad...</td>\n",
       "    </tr>\n",
       "    <tr>\n",
       "      <th>2f392438-e215-4169-bebf-21ac4ff253e1</th>\n",
       "      <td>trends in international mathematics and scienc...</td>\n",
       "    </tr>\n",
       "    <tr>\n",
       "      <th>3f316b38-1a24-45a9-8d8c-4e05a42257c6</th>\n",
       "      <td>noaa storm surge inundation|slosh model</td>\n",
       "    </tr>\n",
       "    <tr>\n",
       "      <th>8e6996b4-ca08-4c0b-bed2-aaf07a4c6a60</th>\n",
       "      <td>rural urban continuum codes</td>\n",
       "    </tr>\n",
       "  </tbody>\n",
       "</table>\n",
       "</div>"
      ],
      "text/plain": [
       "                                                                       PredictionString\n",
       "Id                                                                                     \n",
       "2100032a-7c33-4bff-97ef-690822c43466  alzheimer s disease neuroimaging initiative ad...\n",
       "2f392438-e215-4169-bebf-21ac4ff253e1  trends in international mathematics and scienc...\n",
       "3f316b38-1a24-45a9-8d8c-4e05a42257c6            noaa storm surge inundation|slosh model\n",
       "8e6996b4-ca08-4c0b-bed2-aaf07a4c6a60                        rural urban continuum codes"
      ]
     },
     "execution_count": 50,
     "metadata": {},
     "output_type": "execute_result"
    }
   ],
   "source": [
    "# add all dataset labels in training set to list \n",
    "dataset_labels = [x.lower() for x in train_df['dataset_label'].unique()]\n",
    "dataset_titles = [x.lower() for x in train_df['dataset_title'].unique()]\n",
    "cleaned_labels = [x.lower() for x in train_df['cleaned_label'].unique()]\n",
    "\n",
    "label_list = set(dataset_labels + dataset_titles + cleaned_labels)\n",
    "\n",
    "# check if in test text and add to submission dataframe \n",
    "labels = []\n",
    "for index in test_df['Id']:\n",
    "    text = test_df[test_df['Id'] == index].text.str.cat(sep='\\n').lower()\n",
    "    label = []\n",
    "    for dataset_title in label_list:\n",
    "        if dataset_title in text:\n",
    "            label.append(clean_text(dataset_title))\n",
    "    labels.append('|'.join(label))\n",
    "\n",
    "test_df['PredictionString'] = labels\n",
    "\n",
    "submission_df = test_df.drop(columns=['text']).set_index('Id')\n",
    "\n",
    "submission_df"
   ]
  },
  {
   "cell_type": "markdown",
   "metadata": {},
   "source": [
    "##### Kaggle score: 6.698\n",
    "Baseline"
   ]
  },
  {
   "cell_type": "code",
   "execution_count": 19,
   "metadata": {},
   "outputs": [],
   "source": [
    "# submission_df.to_csv('../output/submission1.csv')"
   ]
  },
  {
   "cell_type": "markdown",
   "metadata": {},
   "source": [
    "## ML approach"
   ]
  },
  {
   "cell_type": "markdown",
   "metadata": {},
   "source": [
    "#### Feature engineering"
   ]
  },
  {
   "cell_type": "code",
   "execution_count": 51,
   "metadata": {},
   "outputs": [
    {
     "name": "stdout",
     "output_type": "stream",
     "text": [
      "(19661,) (19661,)\n"
     ]
    }
   ],
   "source": [
    "X = train_df['text']\n",
    "y = train_df['all_labels']\n",
    "print(X.shape, y.shape)"
   ]
  },
  {
   "cell_type": "code",
   "execution_count": 70,
   "metadata": {},
   "outputs": [],
   "source": [
    "# split data\n",
    "from sklearn.model_selection import train_test_split\n",
    "X_train, X_test, y_train, y_test = train_test_split(X, y, train_size=.92, random_state=42)"
   ]
  },
  {
   "cell_type": "code",
   "execution_count": 71,
   "metadata": {},
   "outputs": [],
   "source": [
    "# from sklearn.feature_extraction.text import CountVectorizer\n",
    "# from sklearn.feature_extraction.text import TfidfTransformer, TfidfVectorizer\n",
    "# # Initialize CountVectorizer\n",
    "# count_vec = CountVectorizer(stop_words='english', max_df=0.7) \n",
    "# # Fit and transform training data \n",
    "# count_vec_train = count_vec.fit_transform(X_train2) \n",
    "# # Transform test set \n",
    "# count_vec_test = count_vec.transform(X_test2)\n",
    "# # Initialize tfidf_vectorizer\n",
    "# tfidf_transformer = TfidfTransformer() \n",
    "# # Fit and transform training data \n",
    "# tfidf_train = tfidf_transformer.fit_transform(count_vec_train) \n",
    "# # Transform test set \n",
    "# tfidf_test = tfidf_transformer.transform(count_vec_test)\n",
    "# # tfidf_df = pd.DataFrame(tfidf_train.A, columns=TfidfTransformer.get_feature_names())\n",
    "# # tfidf_df"
   ]
  },
  {
   "cell_type": "code",
   "execution_count": 77,
   "metadata": {},
   "outputs": [],
   "source": [
    "# more functions\n",
    "from sklearn.pipeline import Pipeline\n",
    "from sklearn.feature_extraction.text import CountVectorizer, TfidfTransformer, TfidfVectorizer\n",
    "from sklearn.metrics import precision_score, recall_score, confusion_matrix\n",
    "\n",
    "def model_test(model):\n",
    "    '''Quickly creates pipeline and displays scores for testing'''\n",
    "    \n",
    "    clf_pipe = Pipeline([\n",
    "#         ('vect', CountVectorizer(stop_words='english', max_df=0.7)),\n",
    "#         ('tfidf', TfidfTransformer()),\n",
    "        ('tfidf', TfidfVectorizer(stop_words='english', max_df=0.7)),\n",
    "        ('clf', model),\n",
    "    ])\n",
    "\n",
    "    clf_pipe.fit(X_train, y_train)\n",
    "    \n",
    "    print(model)\n",
    "\n",
    "    score = clf_pipe.score(X_test, y_test)\n",
    "    print(\"Score:\", score)\n",
    "    \n",
    "def create_submit(model):\n",
    "    '''Fits training data and makes sumbission predictions'''\n",
    "    clf_pipe = Pipeline([\n",
    "        ('vect', CountVectorizer(stop_words='english', max_df=0.7)),\n",
    "        ('tfidf', TfidfTransformer()),\n",
    "        ('clf', model),\n",
    "    ])\n",
    "    # Fit and transform data \n",
    "    clf_pipe.fit(X_train, y_train)\n",
    "    # Make predictions\n",
    "    pred = clf_pipe.predict(test_df.text)\n",
    "    # add dataset labels preds to submission DF\n",
    "    test_df['PredictionString'] = pred\n",
    "    submission_df = test_df.drop(columns=['text']).set_index('Id')\n",
    "    return submission_df"
   ]
  },
  {
   "cell_type": "markdown",
   "metadata": {},
   "source": [
    "#### Passive Aggressive"
   ]
  },
  {
   "cell_type": "code",
   "execution_count": 78,
   "metadata": {},
   "outputs": [
    {
     "name": "stdout",
     "output_type": "stream",
     "text": [
      "PassiveAggressiveClassifier(validation_fraction=0.99)\n",
      "Score: 0.7921169739351558\n"
     ]
    }
   ],
   "source": [
    "from sklearn.linear_model import PassiveAggressiveClassifier \n",
    "clf = PassiveAggressiveClassifier(validation_fraction=.99)\n",
    "model_test(clf)\n",
    "\n",
    "# Score: 0.7782750203417412\n",
    "# Score: 0.7925775292323335\n",
    "# Score: 0.7925775292323335\n",
    "# Not warm: Score: 0.7956278596847992\n",
    "# high val_frac and lower test size: 0.7965670692943421\n",
    "# .08 test, .99 val_frac: 0.7981118373275236\n",
    "\n",
    "# .776 without Tfidf\n",
    "# .778 without count\n",
    "# .778 with both\n",
    "# 0.7940241576605213"
   ]
  },
  {
   "cell_type": "markdown",
   "metadata": {},
   "source": [
    "#### SGD"
   ]
  },
  {
   "cell_type": "code",
   "execution_count": 63,
   "metadata": {},
   "outputs": [
    {
     "name": "stdout",
     "output_type": "stream",
     "text": [
      "SGDClassifier()\n",
      "Score: 0.7144019528071603\n"
     ]
    }
   ],
   "source": [
    "from sklearn.linear_model import SGDClassifier\n",
    "sgd_model = SGDClassifier()\n",
    "model_test(sgd_model)"
   ]
  },
  {
   "cell_type": "markdown",
   "metadata": {},
   "source": [
    "#### SVM"
   ]
  },
  {
   "cell_type": "code",
   "execution_count": 55,
   "metadata": {},
   "outputs": [],
   "source": [
    "## Takes hours!\n",
    "# from sklearn.svm import SVC\n",
    "\n",
    "# model_test(SVC())\n",
    "\n",
    "# Score: 0.7054515866558178"
   ]
  },
  {
   "cell_type": "markdown",
   "metadata": {},
   "source": [
    "#### One Vs Rest testing"
   ]
  },
  {
   "cell_type": "code",
   "execution_count": 56,
   "metadata": {},
   "outputs": [],
   "source": [
    "# from sklearn.model_selection import GridSearchCV\n",
    "# from sklearn.linear_model import LogisticRegression\n",
    "# from sklearn.multiclass import OneVsRestClassifier\n",
    "\n",
    "# log_reg_clf = OneVsRestClassifier(LogisticRegression())\n",
    "\n",
    "# model_test(log_reg_clf)"
   ]
  },
  {
   "cell_type": "code",
   "execution_count": 57,
   "metadata": {},
   "outputs": [],
   "source": [
    "# from sklearn.multiclass import OneVsRestClassifier\n",
    "# from sklearn.svm import SVC\n",
    "\n",
    "# clf = OneVsRestClassifier(SVC())\n",
    "# model_test(clf)\n",
    "\n",
    "# Score: 0.7597640358014646"
   ]
  },
  {
   "cell_type": "markdown",
   "metadata": {},
   "source": [
    "#### Random Forest"
   ]
  },
  {
   "cell_type": "code",
   "execution_count": 58,
   "metadata": {},
   "outputs": [
    {
     "name": "stdout",
     "output_type": "stream",
     "text": [
      "RandomForestClassifier()\n",
      "Score: 0.75\n"
     ]
    }
   ],
   "source": [
    "from sklearn.ensemble import RandomForestClassifier\n",
    "rfc = RandomForestClassifier()\n",
    "model_test(rfc)"
   ]
  },
  {
   "cell_type": "markdown",
   "metadata": {},
   "source": [
    "#### Multi Output Classifier testing"
   ]
  },
  {
   "cell_type": "code",
   "execution_count": 59,
   "metadata": {},
   "outputs": [],
   "source": [
    "# from sklearn.multioutput import MultiOutputClassifier\n",
    "\n",
    "# rfc = RandomForestClassifier(n_estimators=100, random_state=1)\n",
    "# pac = PassiveAggressiveClassifier()\n",
    "# clf = MultiOutputClassifier(pac)\n",
    "\n",
    "# clf.fit(tfidf_train, y_train2)\n",
    "# print(clf)\n",
    "\n",
    "# score = clf.score(tfidf_test, y_test2)\n",
    "# print(\"Score:\", score)\n",
    "\n",
    "# Score: 0.7701383238405207"
   ]
  },
  {
   "cell_type": "markdown",
   "metadata": {},
   "source": [
    "#### KNN"
   ]
  },
  {
   "cell_type": "code",
   "execution_count": 61,
   "metadata": {},
   "outputs": [
    {
     "name": "stdout",
     "output_type": "stream",
     "text": [
      "KNeighborsClassifier(n_neighbors=20)\n",
      "Score: 0.5006102522375916\n"
     ]
    }
   ],
   "source": [
    "from sklearn.neighbors import KNeighborsClassifier\n",
    "knn_model = KNeighborsClassifier(n_neighbors=20)\n",
    "model_test(knn_model)\n",
    "\n",
    "# KNeighborsClassifier(n_neighbors=20)\n",
    "# Score: 0.5502441008950366"
   ]
  },
  {
   "cell_type": "markdown",
   "metadata": {},
   "source": [
    "#### Testing KNN params"
   ]
  },
  {
   "cell_type": "markdown",
   "metadata": {},
   "source": [
    "### ML submission 1"
   ]
  },
  {
   "cell_type": "code",
   "execution_count": 22,
   "metadata": {},
   "outputs": [
    {
     "data": {
      "text/html": [
       "<div>\n",
       "<style scoped>\n",
       "    .dataframe tbody tr th:only-of-type {\n",
       "        vertical-align: middle;\n",
       "    }\n",
       "\n",
       "    .dataframe tbody tr th {\n",
       "        vertical-align: top;\n",
       "    }\n",
       "\n",
       "    .dataframe thead th {\n",
       "        text-align: right;\n",
       "    }\n",
       "</style>\n",
       "<table border=\"1\" class=\"dataframe\">\n",
       "  <thead>\n",
       "    <tr style=\"text-align: right;\">\n",
       "      <th></th>\n",
       "      <th>PredictionString</th>\n",
       "    </tr>\n",
       "    <tr>\n",
       "      <th>Id</th>\n",
       "      <th></th>\n",
       "    </tr>\n",
       "  </thead>\n",
       "  <tbody>\n",
       "    <tr>\n",
       "      <th>2100032a-7c33-4bff-97ef-690822c43466</th>\n",
       "      <td>adni|alzheimer s disease neuroimaging initiati...</td>\n",
       "    </tr>\n",
       "    <tr>\n",
       "      <th>2f392438-e215-4169-bebf-21ac4ff253e1</th>\n",
       "      <td>nces common core of data|trends in internation...</td>\n",
       "    </tr>\n",
       "    <tr>\n",
       "      <th>3f316b38-1a24-45a9-8d8c-4e05a42257c6</th>\n",
       "      <td>slosh model|noaa storm surge inundation</td>\n",
       "    </tr>\n",
       "    <tr>\n",
       "      <th>8e6996b4-ca08-4c0b-bed2-aaf07a4c6a60</th>\n",
       "      <td>rural urban continuum codes</td>\n",
       "    </tr>\n",
       "  </tbody>\n",
       "</table>\n",
       "</div>"
      ],
      "text/plain": [
       "                                                                       PredictionString\n",
       "Id                                                                                     \n",
       "2100032a-7c33-4bff-97ef-690822c43466  adni|alzheimer s disease neuroimaging initiati...\n",
       "2f392438-e215-4169-bebf-21ac4ff253e1  nces common core of data|trends in internation...\n",
       "3f316b38-1a24-45a9-8d8c-4e05a42257c6            slosh model|noaa storm surge inundation\n",
       "8e6996b4-ca08-4c0b-bed2-aaf07a4c6a60                        rural urban continuum codes"
      ]
     },
     "execution_count": 22,
     "metadata": {},
     "output_type": "execute_result"
    }
   ],
   "source": [
    "clf = PassiveAggressiveClassifier(validation_fraction=.99)\n",
    "submission_df = create_submit(clf)\n",
    "submission_df"
   ]
  },
  {
   "cell_type": "code",
   "execution_count": 24,
   "metadata": {},
   "outputs": [],
   "source": [
    "# submission_df.to_csv('../output/submission_pac.csv')"
   ]
  },
  {
   "cell_type": "markdown",
   "metadata": {},
   "source": [
    "##### Max ML Kaggle score: .639\n",
    "Using the PassiveAggressiveClassifier"
   ]
  },
  {
   "cell_type": "code",
   "execution_count": null,
   "metadata": {},
   "outputs": [],
   "source": []
  }
 ],
 "metadata": {
  "kernelspec": {
   "display_name": "Python 3",
   "language": "python",
   "name": "python3"
  },
  "language_info": {
   "codemirror_mode": {
    "name": "ipython",
    "version": 3
   },
   "file_extension": ".py",
   "mimetype": "text/x-python",
   "name": "python",
   "nbconvert_exporter": "python",
   "pygments_lexer": "ipython3",
   "version": "3.7.4"
  }
 },
 "nbformat": 4,
 "nbformat_minor": 2
}
